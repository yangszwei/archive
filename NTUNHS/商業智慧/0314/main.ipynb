{
 "cells": [
  {
   "cell_type": "code",
   "execution_count": null,
   "outputs": [],
   "source": [
    "scores = [int(input(f\"請輸入成績 {i + 1}：\")) for i in range(3)]\n",
    "\n",
    "print('及格' if sum(scores) / len(scores) >= 60 else '不及格')"
   ],
   "metadata": {
    "collapsed": false
   }
  },
  {
   "cell_type": "code",
   "execution_count": null,
   "outputs": [],
   "source": [
    "scores = [int(input(f\"請輸入成績 {i + 1}：\")) for i in range(3)]\n",
    "average = sum(scores) / len(scores)\n",
    "\n",
    "print(['D', 'C', 'B', 'A', 'A'][int(average / 10) - 6] if average >= 60 else '不及格')"
   ],
   "metadata": {
    "collapsed": false
   }
  },
  {
   "cell_type": "code",
   "execution_count": null,
   "outputs": [],
   "source": [
    "import random\n",
    "\n",
    "num = random.randint(100, 200)\n",
    "\n",
    "print(num, '奇數' if num % 2 == 1 else '偶數', f\"{'大於' if num >= 150 else '小於'}150\")"
   ],
   "metadata": {
    "collapsed": false
   }
  },
  {
   "cell_type": "code",
   "execution_count": null,
   "outputs": [],
   "source": [
    "bmi = float(input('請輸入體重（公斤）：')) / float(input('請輸入身高（公尺）：')) ** 2\n",
    "\n",
    "print('正常' if 18.5 <= bmi < 24 else '不正常')"
   ],
   "metadata": {
    "collapsed": false
   }
  },
  {
   "cell_type": "code",
   "execution_count": 59,
   "outputs": [
    {
     "name": "stdout",
     "output_type": "stream",
     "text": [
      "john is older than mary\n",
      "the difference is 3\n"
     ]
    }
   ],
   "source": [
    "john, mary = random.randint(8, 40), random.randint(8, 40)\n",
    "\n",
    "print('john is older than mary' if john > mary else 'mary is older than john')\n",
    "print(f\"the difference is {abs(john - mary)}\")"
   ],
   "metadata": {
    "collapsed": false
   }
  },
  {
   "cell_type": "code",
   "execution_count": 105,
   "outputs": [
    {
     "name": "stdout",
     "output_type": "stream",
     "text": [
      "Month 3: Spring is coming!\n"
     ]
    }
   ],
   "source": [
    "messages = ['Spring is coming!', 'I Love Summer', 'Fall is pretty', 'Winter is cold']\n",
    "month = random.randint(1, 12)\n",
    "\n",
    "print(f\"Month {month}:\", messages[month // 3 - 1 if 3 <= month < 12 else (3 if month == 12 else 0)])"
   ],
   "metadata": {
    "collapsed": false
   }
  },
  {
   "cell_type": "code",
   "execution_count": 94,
   "outputs": [
    {
     "name": "stdout",
     "output_type": "stream",
     "text": [
      "Your balance is not enough\n"
     ]
    }
   ],
   "source": [
    "deposit = int(input('How much do you have in your bank?'))\n",
    "withdraw = int(input('How much do you want to withdraw?'))\n",
    "\n",
    "if deposit > withdraw:\n",
    "    print(f\"Your current balance is {deposit - withdraw}\")\n",
    "    print('Thank you for using bank service')\n",
    "else:\n",
    "    print('Your balance is not enough')"
   ],
   "metadata": {
    "collapsed": false
   }
  }
 ],
 "metadata": {
  "kernelspec": {
   "display_name": "Python 3",
   "language": "python",
   "name": "python3"
  },
  "language_info": {
   "codemirror_mode": {
    "name": "ipython",
    "version": 2
   },
   "file_extension": ".py",
   "mimetype": "text/x-python",
   "name": "python",
   "nbconvert_exporter": "python",
   "pygments_lexer": "ipython2",
   "version": "2.7.6"
  }
 },
 "nbformat": 4,
 "nbformat_minor": 0
}
