{
 "cells": [
  {
   "cell_type": "code",
   "execution_count": 1,
   "metadata": {},
   "outputs": [
    {
     "name": "stdout",
     "output_type": "stream",
     "text": [
      "請輸入成績 1：100\n",
      "請輸入成績 2：90\n",
      "請輸入成績 3：80\n",
      "及格\n"
     ]
    }
   ],
   "source": [
    "scores = [int(input(f\"請輸入成績 {i + 1}：\")) for i in range(3)]\n",
    "\n",
    "print('及格' if sum(scores) / len(scores) >= 60 else '不及格')"
   ]
  },
  {
   "cell_type": "code",
   "execution_count": 2,
   "metadata": {},
   "outputs": [
    {
     "name": "stdout",
     "output_type": "stream",
     "text": [
      "請輸入成績 1：90\n",
      "請輸入成績 2：80\n",
      "請輸入成績 3：70\n",
      "B\n"
     ]
    }
   ],
   "source": [
    "scores = [int(input(f\"請輸入成績 {i + 1}：\")) for i in range(3)]\n",
    "average = sum(scores) / len(scores)\n",
    "\n",
    "print(['D', 'C', 'B', 'A', 'A'][int(average / 10) - 6]\n",
    "      if 60 <= average <= 100\n",
    "      else '不及格')"
   ]
  },
  {
   "cell_type": "code",
   "execution_count": 3,
   "metadata": {},
   "outputs": [
    {
     "name": "stdout",
     "output_type": "stream",
     "text": [
      "152 偶數 大於150\n"
     ]
    }
   ],
   "source": [
    "import random\n",
    "\n",
    "num = random.randint(100, 200)\n",
    "\n",
    "print(num, '奇數' if num % 2 == 1 else '偶數', f\"{'大於' if num >= 150 else '小於'}150\")"
   ]
  },
  {
   "cell_type": "code",
   "execution_count": 4,
   "metadata": {},
   "outputs": [
    {
     "name": "stdout",
     "output_type": "stream",
     "text": [
      "請輸入體重（公斤）：40\n",
      "請輸入身高（公尺）：1.4\n",
      "正常\n"
     ]
    }
   ],
   "source": [
    "bmi = float(input('請輸入體重（公斤）：')) / float(input('請輸入身高（公尺）：')) ** 2\n",
    "\n",
    "print('正常' if 18.5 <= bmi < 24 else '不正常')"
   ]
  },
  {
   "cell_type": "code",
   "execution_count": null,
   "metadata": {},
   "outputs": [],
   "source": []
  }
 ],
 "metadata": {
  "kernelspec": {
   "display_name": "Python 3 (ipykernel)",
   "language": "python",
   "name": "python3"
  },
  "language_info": {
   "codemirror_mode": {
    "name": "ipython",
    "version": 3
   },
   "file_extension": ".py",
   "mimetype": "text/x-python",
   "name": "python",
   "nbconvert_exporter": "python",
   "pygments_lexer": "ipython3",
   "version": "3.10.4"
  }
 },
 "nbformat": 4,
 "nbformat_minor": 1
}
