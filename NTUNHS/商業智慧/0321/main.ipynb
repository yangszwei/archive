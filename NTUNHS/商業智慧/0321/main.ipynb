{
 "cells": [
  {
   "cell_type": "markdown",
   "metadata": {},
   "source": [
    "1. 請用 for loop 寫一個程式，能夠計算 1 加到 100 的總和。"
   ]
  },
  {
   "cell_type": "code",
   "execution_count": 44,
   "metadata": {},
   "outputs": [
    {
     "name": "stdout",
     "output_type": "stream",
     "text": [
      "5050\n"
     ]
    }
   ],
   "source": [
    "print(sum(i for i in range(1, 101)))"
   ]
  },
  {
   "cell_type": "markdown",
   "metadata": {},
   "source": [
    "2. 請用 for loop 寫一個程式能夠計算 1 到 100 的偶數值和。"
   ]
  },
  {
   "cell_type": "code",
   "execution_count": 45,
   "metadata": {},
   "outputs": [
    {
     "name": "stdout",
     "output_type": "stream",
     "text": [
      "2550\n"
     ]
    }
   ],
   "source": [
    "print(sum(i for i in range(0, 101, 2)))"
   ]
  },
  {
   "cell_type": "markdown",
   "metadata": {},
   "source": [
    "3. 請用 for loop 寫一個程式，讓使用者輸入一個起始值數，再輸入結束值的數。計算起始值到結束\n",
    "值的總和。"
   ]
  },
  {
   "cell_type": "code",
   "execution_count": 46,
   "metadata": {},
   "outputs": [
    {
     "name": "stdout",
     "output_type": "stream",
     "text": [
      "輸入起始值: 3\n",
      "請輸入結束值: 10\n",
      "3 加到 10 的和是 52\n"
     ]
    }
   ],
   "source": [
    "start, end = int(input('輸入起始值: ')), int(input('請輸入結束值: '))\n",
    "\n",
    "print(f'{start} 加到 {end} 的和是 {sum(i for i in range(start, end + 1))}')"
   ]
  },
  {
   "cell_type": "markdown",
   "metadata": {},
   "source": [
    "4. 請設計 9*9 乘法表並印出。"
   ]
  },
  {
   "cell_type": "code",
   "execution_count": 47,
   "metadata": {},
   "outputs": [
    {
     "name": "stdout",
     "output_type": "stream",
     "text": [
      "1*1=1 \t 1*2=2 \t 1*3=3 \t 1*4=4 \t 1*5=5 \t 1*6=6 \t 1*7=7 \t 1*8=8 \t 1*9=9 \t \n",
      "2*1=2 \t 2*2=4 \t 2*3=6 \t 2*4=8 \t 2*5=10\t 2*6=12\t 2*7=14\t 2*8=16\t 2*9=18\t \n",
      "3*1=3 \t 3*2=6 \t 3*3=9 \t 3*4=12\t 3*5=15\t 3*6=18\t 3*7=21\t 3*8=24\t 3*9=27\t \n",
      "4*1=4 \t 4*2=8 \t 4*3=12\t 4*4=16\t 4*5=20\t 4*6=24\t 4*7=28\t 4*8=32\t 4*9=36\t \n",
      "5*1=5 \t 5*2=10\t 5*3=15\t 5*4=20\t 5*5=25\t 5*6=30\t 5*7=35\t 5*8=40\t 5*9=45\t \n",
      "6*1=6 \t 6*2=12\t 6*3=18\t 6*4=24\t 6*5=30\t 6*6=36\t 6*7=42\t 6*8=48\t 6*9=54\t \n",
      "7*1=7 \t 7*2=14\t 7*3=21\t 7*4=28\t 7*5=35\t 7*6=42\t 7*7=49\t 7*8=56\t 7*9=63\t \n",
      "8*1=8 \t 8*2=16\t 8*3=24\t 8*4=32\t 8*5=40\t 8*6=48\t 8*7=56\t 8*8=64\t 8*9=72\t \n",
      "9*1=9 \t 9*2=18\t 9*3=27\t 9*4=36\t 9*5=45\t 9*6=54\t 9*7=63\t 9*8=72\t 9*9=81\t \n"
     ]
    }
   ],
   "source": [
    "for i in range(1, 10):\n",
    "    for j in range(1, 10):\n",
    "        print(f'{i}*{j}={i * j:<2d}\\t', end=' ')\n",
    "    print()"
   ]
  },
  {
   "cell_type": "markdown",
   "metadata": {},
   "source": [
    "5. 請用 while loop 寫一個程式，能夠計算 1 加到 100 的總和。"
   ]
  },
  {
   "cell_type": "code",
   "execution_count": 48,
   "metadata": {},
   "outputs": [
    {
     "name": "stdout",
     "output_type": "stream",
     "text": [
      "5050\n"
     ]
    }
   ],
   "source": [
    "i, total = 1, 0\n",
    "\n",
    "while i <= 100:\n",
    "    total += i\n",
    "    i += 1\n",
    "\n",
    "print(total)"
   ]
  },
  {
   "cell_type": "markdown",
   "metadata": {},
   "source": [
    "6. 請用 while loop 寫一個程式能夠計算 1 到 100 的偶數值和。"
   ]
  },
  {
   "cell_type": "code",
   "execution_count": 49,
   "metadata": {},
   "outputs": [
    {
     "name": "stdout",
     "output_type": "stream",
     "text": [
      "2550\n"
     ]
    }
   ],
   "source": [
    "i, total = 2, 0\n",
    "\n",
    "while i < 101:\n",
    "    total += i\n",
    "    i += 2\n",
    "\n",
    "print(total)"
   ]
  },
  {
   "cell_type": "markdown",
   "metadata": {},
   "source": [
    "7. 請用 while loop 寫一個程式，讓使用者輸入一個起始值數，再輸入結束值的數。計算起始值到結\n",
    "束值的總和。"
   ]
  },
  {
   "cell_type": "code",
   "execution_count": 50,
   "metadata": {},
   "outputs": [
    {
     "name": "stdout",
     "output_type": "stream",
     "text": [
      "輸入起始值: 3\n",
      "請輸入結束值: 10\n",
      "3 加到 10 的和是 52\n"
     ]
    }
   ],
   "source": [
    "start, end = int(input('輸入起始值: ')), int(input('請輸入結束值: '))\n",
    "total = 0\n",
    "\n",
    "print(f'{start} 加到 {end} 的和是', end=' ')\n",
    "\n",
    "while start <= end:\n",
    "    total += start\n",
    "    start += 1\n",
    "\n",
    "print(total)"
   ]
  },
  {
   "cell_type": "markdown",
   "metadata": {},
   "source": [
    "8. DuhWell 請你設計一套猜數系統，使用隨機變數函式產生一個介於 50~100 的數，再請使用者輸\n",
    "入一個數，如果數字大於隨機數值，則印出”太大”，如果小於隨機數值，則印出”太小”，再請使\n",
    "用者猜一次，一直到猜中數值或猜超過 5 次則結束程式。"
   ]
  },
  {
   "cell_type": "code",
   "execution_count": 51,
   "metadata": {},
   "outputs": [
    {
     "name": "stdout",
     "output_type": "stream",
     "text": [
      "請輸入一個數字: 50\n",
      "太小\n",
      "請輸入一個數字: 75\n",
      "太小\n",
      "請輸入一個數字: 87\n",
      "太小\n",
      "請輸入一個數字: 93\n",
      "太大\n",
      "請輸入一個數字: 90\n",
      "太大\n",
      "猜了 5 次了，答案是 89\n"
     ]
    }
   ],
   "source": [
    "import random\n",
    "\n",
    "answer = random.randint(50, 100)\n",
    "\n",
    "for count in range(5):\n",
    "    guess = int(input('請輸入一個數字: '))\n",
    "    if guess != answer:\n",
    "        print('太大' if guess > answer else '太小')\n",
    "        continue\n",
    "    print('猜對了')\n",
    "else:\n",
    "    print('猜了 5 次了，答案是', answer)"
   ]
  },
  {
   "cell_type": "markdown",
   "metadata": {},
   "source": [
    "9. 你受聘為 DuhWell 會計公司系統工程師，DuhWell 請你設計客戶個人需繳交的稅款計算系統。繳\n",
    "交所得稅是依據個人的收入再分級距，所以每個人有不同稅率。你的任務是設計一個程式能依照\n",
    "以下級距表來計算出每個人的該繳的稅。級距表如下。\n",
    "\n",
    "| 級別  | 年收入             | 稅率  |\n",
    "|-----|-----------------|-----|\n",
    "| 1   | 0~300000        | 0%  |\n",
    "| 2   | 300001~540000   | 5%  |\n",
    "| 3   | 540001~1210000  | 13% |\n",
    "| 4   | 1210001~242000  | 20% |\n",
    "| 5   | 2420001~4530000 | 35% |\n",
    "| 6   | 4530001 以上      | 45% |\n",
    "\n",
    "系統設計介面要求如下: 1.必須詢問客戶的名字。系統回應問候語。2.再詢問他的年收入。3. 詢問她\n",
    "扶養人數。(若扶養人數=3，稅率-2%，若扶養人數=4，稅率-3%，若扶養人數>=5,稅率-4%)。4. 回應\n",
    "客戶的稅率是多少。 5. 計算後回應畫面須先提及客戶的名字，接著告訴他，他必須繳的稅總額是\n",
    "多少錢？"
   ]
  },
  {
   "cell_type": "code",
   "execution_count": 52,
   "metadata": {},
   "outputs": [
    {
     "name": "stdout",
     "output_type": "stream",
     "text": [
      "請輸入您的名字：Test\n",
      "您好，Test！\n",
      "請輸入您的年收入：600000\n",
      "請輸入您的扶養人數：4\n",
      "您的稅率是 10.00%\n",
      "Test 您好，您的稅金是 60000.00 元\n"
     ]
    }
   ],
   "source": [
    "name = input('請輸入您的名字：')\n",
    "\n",
    "print(f'您好，{name}！')\n",
    "\n",
    "income = int(input('請輸入您的年收入：'))\n",
    "level = (income > 300000) + (income > 540000) + (income > 1210000) + (income > 2420000) + (income > 4530000)\n",
    "tax_rate = [0, 0.05, 0.13, 0.20, 0.35, 0.45][level]\n",
    "\n",
    "dependents = int(input('請輸入您的扶養人數：'))\n",
    "tax_rate -= [0, 2, 3, 4][min(max(dependents - 2, 0), 3)] / 100\n",
    "\n",
    "print(f'您的稅率是 {tax_rate * 100:.2f}%')\n",
    "print(f'{name} 您好，您的稅金是 {income * tax_rate:.2f} 元')"
   ]
  },
  {
   "cell_type": "code",
   "execution_count": null,
   "metadata": {},
   "outputs": [],
   "source": []
  }
 ],
 "metadata": {
  "kernelspec": {
   "display_name": "Python 3 (ipykernel)",
   "language": "python",
   "name": "python3"
  },
  "language_info": {
   "codemirror_mode": {
    "name": "ipython",
    "version": 3
   },
   "file_extension": ".py",
   "mimetype": "text/x-python",
   "name": "python",
   "nbconvert_exporter": "python",
   "pygments_lexer": "ipython3",
   "version": "3.10.4"
  }
 },
 "nbformat": 4,
 "nbformat_minor": 1
}
