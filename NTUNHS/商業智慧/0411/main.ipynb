{
 "cells": [
  {
   "cell_type": "markdown",
   "metadata": {},
   "source": [
    "寫一程式能讀進兩數目，傳至自訂函式，自訂函式能夠執行(1)從第 1 數累加到第二數的和、兩數(2)相加、(3)相乘、(4)相除的結果後印出。"
   ]
  },
  {
   "cell_type": "code",
   "execution_count": 1,
   "metadata": {
    "ExecuteTime": {
     "end_time": "2023-04-11T10:15:40.561178Z",
     "start_time": "2023-04-11T10:15:40.556716Z"
    }
   },
   "outputs": [
    {
     "name": "stdout",
     "output_type": "stream",
     "text": [
      "1 + ... + 10 = 55\n",
      "1 + 10 = 11\n",
      "1 * 10 = 10\n",
      "1 / 10 = 0.1\n"
     ]
    }
   ],
   "source": [
    "def calculate(a: int, b: int) -> None:\n",
    "    print(f\"{a} + ... + {b} = {sum(range(min(a, b), max(a, b) + 1))}\")\n",
    "    print(f\"{a} + {b} = {a + b}\")\n",
    "    print(f\"{a} * {b} = {a * b}\")\n",
    "    print(f\"{a} / {b} = {a / b}\")\n",
    "\n",
    "\n",
    "calculate(1, 10)"
   ]
  },
  {
   "cell_type": "markdown",
   "metadata": {},
   "source": [
    "寫一程式包括一個自訂函式，函式名稱為 cal，在主程式能讀進使用者的名字，身高(公分)、體重(公斤)，再將這三參數傳至自訂函式 cal，在自訂函式 cal 內將身高轉換成英制尺寸，體重轉換成磅(1 公斤=2.2 磅)，再印出對使用者問候語及轉換後結果。"
   ]
  },
  {
   "cell_type": "code",
   "execution_count": 2,
   "metadata": {
    "ExecuteTime": {
     "end_time": "2023-04-11T10:09:40.368204Z",
     "start_time": "2023-04-11T10:09:34.671277Z"
    }
   },
   "outputs": [
    {
     "name": "stdout",
     "output_type": "stream",
     "text": [
      "Please input your name: user\n",
      "Please input your height (cm): 134\n",
      "Please input your weight (kg): 23\n",
      "Hello, user! You are 4.40 feet tall and 50.60 pounds heavy.\n"
     ]
    }
   ],
   "source": [
    "def cal(name: str, height: float, weight: float) -> None:\n",
    "    print(f\"Hello, {name}! You are {height / 30.48:.2f} feet tall and {weight * 2.2:.2f} pounds heavy.\")\n",
    "\n",
    "\n",
    "cal(\n",
    "    input(\"Please input your name: \"),\n",
    "    float(input(\"Please input your height (cm): \")),\n",
    "    float(input(\"Please input your weight (kg): \"))\n",
    ")"
   ]
  },
  {
   "cell_type": "markdown",
   "metadata": {},
   "source": [
    "寫一程式能讀入使用者查詢的 Date 及節次，印出課程名稱\n",
    "請問查詢星期幾的課? 星期二\n",
    "第幾節? 3\n",
    "星期二, 第 3 節 課程是 Phy"
   ]
  },
  {
   "cell_type": "code",
   "execution_count": 3,
   "metadata": {
    "ExecuteTime": {
     "end_time": "2023-04-11T11:34:46.342273Z",
     "start_time": "2023-04-11T11:34:40.226469Z"
    }
   },
   "outputs": [
    {
     "name": "stdout",
     "output_type": "stream",
     "text": [
      "請問查詢星期幾的課? 星期二\n",
      "第幾節? 3\n",
      "星期二, 第 3 節 課程是 Phy\n"
     ]
    }
   ],
   "source": [
    "import numpy as np\n",
    "\n",
    "timetable = np.array([\n",
    "    [\"BI\", \"MIS\", \"Med\"],\n",
    "    [\"Network\", \"Web\", \"C#\"],\n",
    "    [\"Music\", \"Phy\", \"Stat\"]\n",
    "])\n",
    "\n",
    "day = input(\"請問查詢星期幾的課? \")\n",
    "period = int(input(\"第幾節? \"))\n",
    "\n",
    "print(f\"{day}, 第 {period} 節 課程是 {timetable[period - 1, ['星期一', '星期二', '星期三'].index(day)]}\")"
   ]
  },
  {
   "cell_type": "code",
   "execution_count": 1,
   "metadata": {
    "ExecuteTime": {
     "end_time": "2023-04-11T11:43:52.322685Z",
     "start_time": "2023-04-11T11:43:45.971485Z"
    }
   },
   "outputs": [
    {
     "name": "stdout",
     "output_type": "stream",
     "text": [
      "請問查詢星期幾的課? 星期二\n",
      "MIS Web 無課程 無課程 Phy 無課程 \n",
      "是否繼續查詢? (y/n) y\n",
      "請問查詢星期幾的課? 星期三\n",
      "Med 無課程 Stat C# Data Stru DataStru \n",
      "是否繼續查詢? (y/n) y\n",
      "請問查詢星期幾的課? 星期一\n",
      "BI 無課程 Music Exercise 無課程 Network \n",
      "是否繼續查詢? (y/n) n\n",
      "謝謝使用課表查詢功能\n"
     ]
    }
   ],
   "source": [
    "import pandas as pd\n",
    "\n",
    "timetable = pd.DataFrame(\n",
    "    [\n",
    "        [\"BI\", \"MIS\", \"Med\"],\n",
    "        [None, \"Web\", None],\n",
    "        [\"Music\", None, \"Stat\"],\n",
    "        [\"Exercise\", None, \"C#\"],\n",
    "        [None, \"Phy\", \"Data Stru\"],\n",
    "        [\"Network\", None, \"DataStru\"]\n",
    "    ],\n",
    "    columns=['星期一', '星期二', '星期三']\n",
    ")\n",
    "\n",
    "while True:\n",
    "    day = input(\"請問查詢星期幾的課? \")\n",
    "    for course in timetable.loc[:, day]:\n",
    "        print(course or \"無課程\", end=\" \")\n",
    "    print()\n",
    "    if input(\"是否繼續查詢? (y/n) \") == 'n':\n",
    "        break\n",
    "\n",
    "print(\"謝謝使用課表查詢功能\")"
   ]
  },
  {
   "cell_type": "code",
   "execution_count": null,
   "metadata": {},
   "outputs": [],
   "source": []
  }
 ],
 "metadata": {
  "kernelspec": {
   "display_name": "Python 3 (ipykernel)",
   "language": "python",
   "name": "python3"
  },
  "language_info": {
   "codemirror_mode": {
    "name": "ipython",
    "version": 3
   },
   "file_extension": ".py",
   "mimetype": "text/x-python",
   "name": "python",
   "nbconvert_exporter": "python",
   "pygments_lexer": "ipython3",
   "version": "3.10.4"
  }
 },
 "nbformat": 4,
 "nbformat_minor": 1
}
