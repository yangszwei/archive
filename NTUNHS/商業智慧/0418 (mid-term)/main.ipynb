{
 "cells": [
  {
   "cell_type": "code",
   "execution_count": null,
   "metadata": {
    "collapsed": true
   },
   "outputs": [],
   "source": [
    "#!/usr/bin/env python3\n",
    "\n",
    "import pandas as pd\n",
    "import numpy as np"
   ]
  },
  {
   "cell_type": "markdown",
   "source": [
    "## Part I (25%)\n",
    "\n",
    "A. 將每位應考者分數資料寫入名為 score 的 DataFrame 內。"
   ],
   "metadata": {
    "collapsed": false
   }
  },
  {
   "cell_type": "code",
   "execution_count": null,
   "outputs": [],
   "source": [
    "score = pd.DataFrame(\n",
    "    [\n",
    "        [72, 86, 85, 90],\n",
    "        [87, 96, 71, 65],\n",
    "        [81, 66, 92, 73],\n",
    "        [97, 71, 66, 82]\n",
    "    ],\n",
    "    index=['Duh', 'John', 'Steve', 'Mary'],\n",
    "    columns=['Python', '英文', '資管概論', '醫療資訊']\n",
    ")\n",
    "\n",
    "print(score)"
   ],
   "metadata": {
    "collapsed": false
   }
  },
  {
   "cell_type": "markdown",
   "source": [
    "B. 將資料轉換成 numpy 結構， 以方便之後在陣列內進行運算。"
   ],
   "metadata": {
    "collapsed": false
   }
  },
  {
   "cell_type": "code",
   "execution_count": null,
   "outputs": [],
   "source": [
    "score = score.to_numpy()"
   ],
   "metadata": {
    "collapsed": false
   }
  },
  {
   "cell_type": "markdown",
   "source": [
    "C. 將各項原始分數加總並計算其原始總分平均。 (25%)"
   ],
   "metadata": {
    "collapsed": false
   }
  },
  {
   "cell_type": "code",
   "execution_count": null,
   "outputs": [],
   "source": [
    "score = np.append(score, np.sum(score[:, 0:4], axis=1).reshape(4, 1), axis=1)\n",
    "score = np.append(score, np.mean(score[:, 0:4], axis=1).reshape(4, 1), axis=1)"
   ],
   "metadata": {
    "collapsed": false
   }
  },
  {
   "cell_type": "markdown",
   "source": [
    "D. 將完成的表單印出。"
   ],
   "metadata": {
    "collapsed": false
   }
  },
  {
   "cell_type": "code",
   "execution_count": null,
   "outputs": [],
   "source": [
    "print(score)"
   ],
   "metadata": {
    "collapsed": false
   }
  },
  {
   "cell_type": "markdown",
   "source": [
    "## Part II (25%)\n",
    "\n",
    "E. 建立另一個新成績表明為 score1，表單內資料為依照各項目權重計算加權後分數，如英文加權後分數就是(原始分數+原始分數*0.3)"
   ],
   "metadata": {
    "collapsed": false
   }
  },
  {
   "cell_type": "code",
   "execution_count": null,
   "outputs": [],
   "source": [
    "score1 = np.array(list(map(lambda x: x + x * np.array([0.2, 0.3, 0.25, 0.25]), score[:, 0:4])))"
   ],
   "metadata": {
    "collapsed": false
   }
  },
  {
   "cell_type": "markdown",
   "source": [
    "F. 顯示(印出)加權後各項目的分數"
   ],
   "metadata": {
    "collapsed": false
   }
  },
  {
   "cell_type": "code",
   "execution_count": null,
   "outputs": [],
   "source": [
    "print(score1)"
   ],
   "metadata": {
    "collapsed": false
   }
  },
  {
   "cell_type": "markdown",
   "source": [
    "G. 再將各項目加權後分數相加，計算其加權後總分及加權後平均 (25%)"
   ],
   "metadata": {
    "collapsed": false
   }
  },
  {
   "cell_type": "code",
   "execution_count": null,
   "outputs": [],
   "source": [
    "score1 = np.append(score1, np.sum(score1[:, 0:4], axis=1).reshape(4, 1), axis=1)\n",
    "score1 = np.append(score1, np.mean(score1[:, 0:4], axis=1).reshape(4, 1), axis=1)\n",
    "\n",
    "print(score1)"
   ],
   "metadata": {
    "collapsed": false
   }
  },
  {
   "cell_type": "markdown",
   "source": [
    "## Part III (50%)\n",
    "\n",
    "1. 印出書庫內的資料"
   ],
   "metadata": {
    "collapsed": false
   }
  },
  {
   "cell_type": "code",
   "execution_count": null,
   "outputs": [],
   "source": [
    "books = [\n",
    "    {'title': '愛麗絲夢遊記', 'price': 480, 'author': 'JOHN', 'category': '小說'},\n",
    "    {'title': '老杜環遊世界', 'price': 560, 'author': 'Duh', 'category': '小說'},\n",
    "    {'title': '活用 Big Data', 'price': 460, 'author': 'Tom', 'category': '電腦'},\n",
    "    {'title': 'ChatGPT 完整手冊', 'price': 500, 'author': 'Mary', 'category': '電腦'},\n",
    "    {'title': '精準醫療是甚麼', 'price': 580, 'author': 'Peter', 'category': '醫學'},\n",
    "    {'title': '中醫科學化', 'price': 680, 'author': 'Cloudy', 'category': '醫學'}\n",
    "]"
   ],
   "metadata": {
    "collapsed": false
   }
  },
  {
   "cell_type": "markdown",
   "source": [
    "2. 建立一查詢系統能\n",
    "    (a) 顯示歡迎使用訊息\n",
    "    (b) 讓讀者輸入類別和書名後，印出書本價格及作者\n",
    "    (c)若無法找到讀者查詢的書籍，則顯示[抱歉! 本書庫尚未購買此書]，並請讀者重新輸入\n",
    "3. 系統必須一直能夠執行直到讀者輸入 (N) 才離開\n",
    "4. 你必須執行 3 次以上查詢功能來顯示你設計的系統是符合需求且完整的。"
   ],
   "metadata": {
    "collapsed": false
   }
  },
  {
   "cell_type": "code",
   "execution_count": null,
   "outputs": [],
   "source": [
    "print('歡迎使用本查詢系統')\n",
    "\n",
    "while True:\n",
    "    category = input('請輸入類別: ')\n",
    "    title = input('請輸入書名: ')\n",
    "    for book in books:\n",
    "        if book['category'] == category and book['title'] == title:\n",
    "            print('價格: ', book['price'])\n",
    "            print('作者: ', book['author'])\n",
    "            break\n",
    "    else:\n",
    "        print('抱歉! 本書庫尚未購買此書')\n",
    "        print('請重新輸入！')\n",
    "        continue\n",
    "    if input('是否繼續查詢? (Y/N) ') == 'N':\n",
    "        break"
   ],
   "metadata": {
    "collapsed": false
   }
  }
 ],
 "metadata": {
  "kernelspec": {
   "display_name": "Python 3",
   "language": "python",
   "name": "python3"
  },
  "language_info": {
   "codemirror_mode": {
    "name": "ipython",
    "version": 2
   },
   "file_extension": ".py",
   "mimetype": "text/x-python",
   "name": "python",
   "nbconvert_exporter": "python",
   "pygments_lexer": "ipython2",
   "version": "2.7.6"
  }
 },
 "nbformat": 4,
 "nbformat_minor": 0
}
